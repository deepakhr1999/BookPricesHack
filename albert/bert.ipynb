{
 "metadata": {
  "language_info": {
   "codemirror_mode": {
    "name": "ipython",
    "version": 3
   },
   "file_extension": ".py",
   "mimetype": "text/x-python",
   "name": "python",
   "nbconvert_exporter": "python",
   "pygments_lexer": "ipython3",
   "version": "3.7.7-final"
  },
  "orig_nbformat": 2,
  "kernelspec": {
   "name": "python3",
   "display_name": "Python 3",
   "language": "python"
  }
 },
 "nbformat": 4,
 "nbformat_minor": 2,
 "cells": [
  {
   "cell_type": "code",
   "execution_count": 1,
   "metadata": {},
   "outputs": [],
   "source": [
    "from transformers import AutoTokenizer, AutoModel\n",
    "import torch\n",
    "from torch import nn\n",
    "from tqdm.notebook import tqdm\n",
    "from torch.utils.data import Dataset, DataLoader, Sampler\n",
    "from torch.nn.utils.rnn import pad_sequence"
   ]
  },
  {
   "cell_type": "code",
   "execution_count": 2,
   "metadata": {},
   "outputs": [
    {
     "output_type": "execute_result",
     "data": {
      "text/plain": [
       "                                        Title           Author  \\\n",
       "0         The Prisoner's Gold (The Hunters 3)   Chris Kuzneski   \n",
       "1          Guru Dutt: A Tragedy in Three Acts     Arun Khopkar   \n",
       "2                Leviathan (Penguin Classics)    Thomas Hobbes   \n",
       "3          A Pocket Full of Rye (Miss Marple)  Agatha Christie   \n",
       "4  LIFE 70 Years of Extraordinary Photography  Editors of Life   \n",
       "\n",
       "                   Edition             Reviews              Ratings  \\\n",
       "0  Paperback,– 10 Mar 2016  4.0 out of 5 stars   8 customer reviews   \n",
       "1   Paperback,– 7 Nov 2012  3.9 out of 5 stars  14 customer reviews   \n",
       "2  Paperback,– 25 Feb 1982  4.8 out of 5 stars   6 customer reviews   \n",
       "3   Paperback,– 5 Oct 2017  4.1 out of 5 stars  13 customer reviews   \n",
       "4  Hardcover,– 10 Oct 2006  5.0 out of 5 stars    1 customer review   \n",
       "\n",
       "                                            Synopsis  \\\n",
       "0  THE HUNTERS return in their third brilliant no...   \n",
       "1  A layered portrait of a troubled genius for wh...   \n",
       "2  \"During the time men live without a common Pow...   \n",
       "3  A handful of grain is found in the pocket of a...   \n",
       "4  For seven decades, \"Life\" has been thrilling t...   \n",
       "\n",
       "                          Genre                          BookCategory   Price  \n",
       "0    Action & Adventure (Books)                    Action & Adventure  220.00  \n",
       "1    Cinema & Broadcast (Books)  Biographies, Diaries & True Accounts  202.93  \n",
       "2       International Relations                                Humour  299.00  \n",
       "3  Contemporary Fiction (Books)             Crime, Thriller & Mystery  180.00  \n",
       "4         Photography Textbooks              Arts, Film & Photography  965.62  "
      ],
      "text/html": "<div>\n<style scoped>\n    .dataframe tbody tr th:only-of-type {\n        vertical-align: middle;\n    }\n\n    .dataframe tbody tr th {\n        vertical-align: top;\n    }\n\n    .dataframe thead th {\n        text-align: right;\n    }\n</style>\n<table border=\"1\" class=\"dataframe\">\n  <thead>\n    <tr style=\"text-align: right;\">\n      <th></th>\n      <th>Title</th>\n      <th>Author</th>\n      <th>Edition</th>\n      <th>Reviews</th>\n      <th>Ratings</th>\n      <th>Synopsis</th>\n      <th>Genre</th>\n      <th>BookCategory</th>\n      <th>Price</th>\n    </tr>\n  </thead>\n  <tbody>\n    <tr>\n      <th>0</th>\n      <td>The Prisoner's Gold (The Hunters 3)</td>\n      <td>Chris Kuzneski</td>\n      <td>Paperback,– 10 Mar 2016</td>\n      <td>4.0 out of 5 stars</td>\n      <td>8 customer reviews</td>\n      <td>THE HUNTERS return in their third brilliant no...</td>\n      <td>Action &amp; Adventure (Books)</td>\n      <td>Action &amp; Adventure</td>\n      <td>220.00</td>\n    </tr>\n    <tr>\n      <th>1</th>\n      <td>Guru Dutt: A Tragedy in Three Acts</td>\n      <td>Arun Khopkar</td>\n      <td>Paperback,– 7 Nov 2012</td>\n      <td>3.9 out of 5 stars</td>\n      <td>14 customer reviews</td>\n      <td>A layered portrait of a troubled genius for wh...</td>\n      <td>Cinema &amp; Broadcast (Books)</td>\n      <td>Biographies, Diaries &amp; True Accounts</td>\n      <td>202.93</td>\n    </tr>\n    <tr>\n      <th>2</th>\n      <td>Leviathan (Penguin Classics)</td>\n      <td>Thomas Hobbes</td>\n      <td>Paperback,– 25 Feb 1982</td>\n      <td>4.8 out of 5 stars</td>\n      <td>6 customer reviews</td>\n      <td>\"During the time men live without a common Pow...</td>\n      <td>International Relations</td>\n      <td>Humour</td>\n      <td>299.00</td>\n    </tr>\n    <tr>\n      <th>3</th>\n      <td>A Pocket Full of Rye (Miss Marple)</td>\n      <td>Agatha Christie</td>\n      <td>Paperback,– 5 Oct 2017</td>\n      <td>4.1 out of 5 stars</td>\n      <td>13 customer reviews</td>\n      <td>A handful of grain is found in the pocket of a...</td>\n      <td>Contemporary Fiction (Books)</td>\n      <td>Crime, Thriller &amp; Mystery</td>\n      <td>180.00</td>\n    </tr>\n    <tr>\n      <th>4</th>\n      <td>LIFE 70 Years of Extraordinary Photography</td>\n      <td>Editors of Life</td>\n      <td>Hardcover,– 10 Oct 2006</td>\n      <td>5.0 out of 5 stars</td>\n      <td>1 customer review</td>\n      <td>For seven decades, \"Life\" has been thrilling t...</td>\n      <td>Photography Textbooks</td>\n      <td>Arts, Film &amp; Photography</td>\n      <td>965.62</td>\n    </tr>\n  </tbody>\n</table>\n</div>"
     },
     "metadata": {},
     "execution_count": 2
    }
   ],
   "source": [
    "train = pd.read_excel('../Data_Train.xlsx')\n",
    "train.head()"
   ]
  },
  {
   "source": [
    "class Bert(nn.Module):\n",
    "    ALBERT_END_IDX = 3\n",
    "    ALBERT_MAX_LEN = 512\n",
    "    EMBED_FORWARD = 0\n",
    "    MODEL_FORWARD = 1\n",
    "\n",
    "    def __init__(self, modelName=\"albert-base-v2\"):\n",
    "        super().__init__()\n",
    "        self.tokenizer = AutoTokenizer.from_pretrained(modelName)\n",
    "        self.model = AutoModel.from_pretrained(modelName) #11683584 params\n",
    "    \n",
    "    def setInputsToDevice(self, inputs):\n",
    "        device = self.model.device\n",
    "        inputs = {key: inputs[key].to(device) for key in inputs}\n",
    "        return inputs\n",
    "\n",
    "    def truncateInputs(self, inputs):\n",
    "        max_length = inputs['input_ids'].size(1)\n",
    "        if max_length <= self.ALBERT_MAX_LEN:\n",
    "            return inputs\n",
    "\n",
    "        # truncate inputs at dim=1\n",
    "        for key in inputs:\n",
    "            inputs[key] = inputs[key][:, :self.ALBERT_MAX_LEN]\n",
    "        # for those that are truncated, input_ids[:, 511] != 0\n",
    "        last_ids = inputs['input_ids'][:, self.ALBERT_MAX_LEN - 1]\n",
    "        # we set values at maxlen-1 to the index corresponding to the end token\n",
    "        inputs['input_ids'][last_ids != 0, self.ALBERT_MAX_LEN - 1] = self.ALBERT_END_IDX\n",
    "        return inputs\n",
    "    \n",
    "    def embeddingForward(self, inputs:dict):\n",
    "        # forward pass on embeddings, out is b t u\n",
    "        out = self.model.embeddings(input_ids=inputs['input_ids'], token_type_ids=inputs['token_type_ids'])\n",
    "        \n",
    "        # multiply attention masks to get the sum\n",
    "        mask = torch.unsqueeze(inputs['attention_mask'], dim=1) * 1. # b, 1, t\n",
    "        out = torch.matmul(mask, out) # b 1 u\n",
    "        out = torch.squeeze(out, dim=1) # b u\n",
    "        return out\n",
    "\n",
    "    def forward(self, sentences:list, forwardType)->torch.Tensor:\n",
    "        # convert sentences to a dict of input vectors\n",
    "        inputs = self.tokenizer(list(sentences), return_tensors='pt',\n",
    "                                    padding=True, max_length=512, truncation=True)\n",
    "        # inputs = self.truncateInputs(inputs)\n",
    "        inputs = self.setInputsToDevice(inputs)\n",
    "\n",
    "        if forwardType == self.EMBED_FORWARD:\n",
    "            return self.embeddingForward(inputs)\n",
    "\n",
    "        elif forwardType == self.MODEL_FORWARD:\n",
    "            return self.model(**inputs).pooler_output\n",
    "\n",
    "        else:\n",
    "            raise ValueError(f'Expected Bert.EMBED_FORWARD or Bert.MODEL_FORWARD, but got {forwardType}')\n",
    "\n",
    "        return\n",
    "\n",
    "# declare model here\n",
    "albert = Bert().eval().cuda()"
   ],
   "cell_type": "code",
   "metadata": {},
   "execution_count": 3,
   "outputs": []
  },
  {
   "cell_type": "code",
   "execution_count": 4,
   "metadata": {
    "tags": []
   },
   "outputs": [
    {
     "output_type": "display_data",
     "data": {
      "text/plain": "HBox(children=(FloatProgress(value=0.0, max=98.0), HTML(value='')))",
      "application/vnd.jupyter.widget-view+json": {
       "version_major": 2,
       "version_minor": 0,
       "model_id": "e441dd2c65564a2cbae4eeecbcaf21ce"
      }
     },
     "metadata": {}
    },
    {
     "output_type": "stream",
     "name": "stdout",
     "text": [
      "\nOutput obtained successfully, shape = torch.Size([6237, 256])\n"
     ]
    }
   ],
   "source": [
    "dataset = list(zip(train.Synopsis, train.Title))\n",
    "loader = DataLoader(dataset, batch_size=64)\n",
    "outs = []\n",
    "with torch.no_grad():\n",
    "    for title, synopsis in tqdm(loader):\n",
    "        out = torch.cat([\n",
    "            albert(title, albert.EMBED_FORWARD),\n",
    "            albert(synopsis, albert.EMBED_FORWARD),\n",
    "        ], dim=-1)\n",
    "        outs.append(out.cpu())\n",
    "        torch.cuda.empty_cache()\n",
    "outs = torch.cat(outs)\n",
    "print(\"Output obtained successfully, shape =\", outs.shape)"
   ]
  }
 ]
}