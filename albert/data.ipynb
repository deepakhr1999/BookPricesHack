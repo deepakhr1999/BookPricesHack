{
 "cells": [
  {
   "cell_type": "code",
   "execution_count": 1,
   "metadata": {},
   "outputs": [],
   "source": [
    "from torch.utils.data import DataLoader\n",
    "from BookDataset import getBookDataset, BookDataset, NameSpace"
   ]
  },
  {
   "cell_type": "code",
   "execution_count": 2,
   "metadata": {},
   "outputs": [
    {
     "data": {
      "text/html": [
       "<div>\n",
       "<style scoped>\n",
       "    .dataframe tbody tr th:only-of-type {\n",
       "        vertical-align: middle;\n",
       "    }\n",
       "\n",
       "    .dataframe tbody tr th {\n",
       "        vertical-align: top;\n",
       "    }\n",
       "\n",
       "    .dataframe thead th {\n",
       "        text-align: right;\n",
       "    }\n",
       "</style>\n",
       "<table border=\"1\" class=\"dataframe\">\n",
       "  <thead>\n",
       "    <tr style=\"text-align: right;\">\n",
       "      <th></th>\n",
       "      <th>Title</th>\n",
       "      <th>Edition</th>\n",
       "      <th>Reviews</th>\n",
       "      <th>Ratings</th>\n",
       "      <th>Synopsis</th>\n",
       "      <th>Genre</th>\n",
       "      <th>BookCategory</th>\n",
       "      <th>Price</th>\n",
       "      <th>author_0</th>\n",
       "      <th>author_1</th>\n",
       "      <th>author_2</th>\n",
       "      <th>author_3</th>\n",
       "      <th>author_4</th>\n",
       "    </tr>\n",
       "  </thead>\n",
       "  <tbody>\n",
       "    <tr>\n",
       "      <th>3779</th>\n",
       "      <td>Rejuvenate Yourself: Nature - Vol. 1: Volume 1</td>\n",
       "      <td>0.0</td>\n",
       "      <td>0.599695</td>\n",
       "      <td>0.686913</td>\n",
       "      <td>Based on the concept of colour therapy, Rejuve...</td>\n",
       "      <td>100</td>\n",
       "      <td>2</td>\n",
       "      <td>121.00</td>\n",
       "      <td>119</td>\n",
       "      <td>1</td>\n",
       "      <td>1</td>\n",
       "      <td>1</td>\n",
       "      <td>1</td>\n",
       "    </tr>\n",
       "    <tr>\n",
       "      <th>3083</th>\n",
       "      <td>I Have Lost My Way</td>\n",
       "      <td>0.0</td>\n",
       "      <td>1.000000</td>\n",
       "      <td>0.263277</td>\n",
       "      <td>A brand-new, heart-wrenching novel from the be...</td>\n",
       "      <td>2</td>\n",
       "      <td>1</td>\n",
       "      <td>217.54</td>\n",
       "      <td>151</td>\n",
       "      <td>1</td>\n",
       "      <td>1</td>\n",
       "      <td>1</td>\n",
       "      <td>1</td>\n",
       "    </tr>\n",
       "    <tr>\n",
       "      <th>4957</th>\n",
       "      <td>Furious Hours</td>\n",
       "      <td>0.0</td>\n",
       "      <td>0.656100</td>\n",
       "      <td>0.331453</td>\n",
       "      <td>‘It’s been a long time since I picked up a boo...</td>\n",
       "      <td>195</td>\n",
       "      <td>6</td>\n",
       "      <td>311.00</td>\n",
       "      <td>0</td>\n",
       "      <td>1</td>\n",
       "      <td>1</td>\n",
       "      <td>1</td>\n",
       "      <td>1</td>\n",
       "    </tr>\n",
       "    <tr>\n",
       "      <th>3654</th>\n",
       "      <td>No Mission Is Impossible: The Death-defying Mi...</td>\n",
       "      <td>1.0</td>\n",
       "      <td>0.497871</td>\n",
       "      <td>0.570797</td>\n",
       "      <td>The Death-Defying Missions of the Israeli Spec...</td>\n",
       "      <td>142</td>\n",
       "      <td>9</td>\n",
       "      <td>779.00</td>\n",
       "      <td>0</td>\n",
       "      <td>1</td>\n",
       "      <td>1</td>\n",
       "      <td>1</td>\n",
       "      <td>1</td>\n",
       "    </tr>\n",
       "    <tr>\n",
       "      <th>4338</th>\n",
       "      <td>National Cyber Olympiad - Class 2 with CD: The...</td>\n",
       "      <td>0.0</td>\n",
       "      <td>1.000000</td>\n",
       "      <td>0.263277</td>\n",
       "      <td>Developed by Professionals and Experienced Tea...</td>\n",
       "      <td>72</td>\n",
       "      <td>5</td>\n",
       "      <td>128.00</td>\n",
       "      <td>0</td>\n",
       "      <td>0</td>\n",
       "      <td>1</td>\n",
       "      <td>1</td>\n",
       "      <td>1</td>\n",
       "    </tr>\n",
       "  </tbody>\n",
       "</table>\n",
       "</div>"
      ],
      "text/plain": [
       "                                                  Title  Edition   Reviews  \\\n",
       "3779     Rejuvenate Yourself: Nature - Vol. 1: Volume 1      0.0  0.599695   \n",
       "3083                                 I Have Lost My Way      0.0  1.000000   \n",
       "4957                                      Furious Hours      0.0  0.656100   \n",
       "3654  No Mission Is Impossible: The Death-defying Mi...      1.0  0.497871   \n",
       "4338  National Cyber Olympiad - Class 2 with CD: The...      0.0  1.000000   \n",
       "\n",
       "       Ratings                                           Synopsis  Genre  \\\n",
       "3779  0.686913  Based on the concept of colour therapy, Rejuve...    100   \n",
       "3083  0.263277  A brand-new, heart-wrenching novel from the be...      2   \n",
       "4957  0.331453  ‘It’s been a long time since I picked up a boo...    195   \n",
       "3654  0.570797  The Death-Defying Missions of the Israeli Spec...    142   \n",
       "4338  0.263277  Developed by Professionals and Experienced Tea...     72   \n",
       "\n",
       "      BookCategory   Price  author_0  author_1  author_2  author_3  author_4  \n",
       "3779             2  121.00       119         1         1         1         1  \n",
       "3083             1  217.54       151         1         1         1         1  \n",
       "4957             6  311.00         0         1         1         1         1  \n",
       "3654             9  779.00         0         1         1         1         1  \n",
       "4338             5  128.00         0         0         1         1         1  "
      ]
     },
     "execution_count": 2,
     "metadata": {},
     "output_type": "execute_result"
    }
   ],
   "source": [
    "train, val, test, featureSizes = getBookDataset('../Data_Train.xlsx', '../Data_Test.xlsx')\n",
    "train.head()"
   ]
  },
  {
   "cell_type": "code",
   "execution_count": 3,
   "metadata": {},
   "outputs": [
    {
     "data": {
      "text/plain": [
       "Text(0.5, 0, 'Reviews (x/5)**4')"
      ]
     },
     "execution_count": 3,
     "metadata": {},
     "output_type": "execute_result"
    },
    {
     "data": {
      "image/png": "[encoded data removed]",
      "text/plain": [
       "<Figure size 864x360 with 2 Axes>"
      ]
     },
     "metadata": {
      "needs_background": "light"
     },
     "output_type": "display_data"
    }
   ],
   "source": [
    "fig, (ax1, ax2) = plt.subplots(1, 2, figsize=(12, 5), sharey=True)\n",
    "plt.suptitle('Histograms of Reviews and Ratings', fontsize=14)\n",
    "\n",
    "ax1.hist(train.Ratings)\n",
    "ax1.set_xlabel('Ratings root(log(1+x)/10)', fontsize=12)\n",
    "ax1.set_ylabel('Frequencies')\n",
    "\n",
    "ax2.hist(train.Reviews)\n",
    "ax2.set_xlabel('Reviews (x/5)**4', fontsize=12)"
   ]
  },
  {
   "cell_type": "code",
   "execution_count": 4,
   "metadata": {},
   "outputs": [
    {
     "name": "stdout",
     "output_type": "stream",
     "text": [
      "['Title', 'Edition', 'Reviews', 'Ratings', 'Synopsis', 'Genre', 'BookCategory', 'Price', 'author_0', 'author_1', 'author_2', 'author_3', 'author_4']\n"
     ]
    }
   ],
   "source": [
    "loader = DataLoader(BookDataset(train), batch_size=5)\n",
    "batch = next(iter(loader))\n",
    "print(list(batch.keys()))"
   ]
  }
 ],
 "metadata": {
  "kernelspec": {
   "display_name": "Python 3",
   "language": "python",
   "name": "python3"
  },
  "language_info": {
   "codemirror_mode": {
    "name": "ipython",
    "version": 3
   },
   "file_extension": ".py",
   "mimetype": "text/x-python",
   "name": "python",
   "nbconvert_exporter": "python",
   "pygments_lexer": "ipython3",
   "version": "3.7.7"
  }
 },
 "nbformat": 4,
 "nbformat_minor": 4
}
