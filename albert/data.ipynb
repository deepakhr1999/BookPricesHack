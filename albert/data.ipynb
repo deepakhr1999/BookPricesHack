{
 "cells": [
  {
   "cell_type": "code",
   "execution_count": 1,
   "metadata": {},
   "outputs": [],
   "source": [
    "from torch.utils.data import DataLoader\n",
    "import time\n",
    "import torch\n",
    "from embeddings import EmbeddingSummation\n",
    "from BookDataset import getBookDataset, BookDataset, NameSpace\n",
    "from transformers import AutoTokenizer"
   ]
  },
  {
   "cell_type": "code",
   "execution_count": 2,
   "metadata": {},
   "outputs": [
    {
     "data": {
      "text/html": [
       "<div>\n",
       "<style scoped>\n",
       "    .dataframe tbody tr th:only-of-type {\n",
       "        vertical-align: middle;\n",
       "    }\n",
       "\n",
       "    .dataframe tbody tr th {\n",
       "        vertical-align: top;\n",
       "    }\n",
       "\n",
       "    .dataframe thead th {\n",
       "        text-align: right;\n",
       "    }\n",
       "</style>\n",
       "<table border=\"1\" class=\"dataframe\">\n",
       "  <thead>\n",
       "    <tr style=\"text-align: right;\">\n",
       "      <th></th>\n",
       "      <th>Title</th>\n",
       "      <th>Edition</th>\n",
       "      <th>Reviews</th>\n",
       "      <th>Ratings</th>\n",
       "      <th>Synopsis</th>\n",
       "      <th>Genre</th>\n",
       "      <th>BookCategory</th>\n",
       "      <th>Price</th>\n",
       "      <th>author_0</th>\n",
       "      <th>author_1</th>\n",
       "      <th>author_2</th>\n",
       "      <th>author_3</th>\n",
       "      <th>author_4</th>\n",
       "    </tr>\n",
       "  </thead>\n",
       "  <tbody>\n",
       "    <tr>\n",
       "      <th>0</th>\n",
       "      <td>The Prisoner's Gold (The Hunters 3)</td>\n",
       "      <td>0.0</td>\n",
       "      <td>0.409600</td>\n",
       "      <td>0.468746</td>\n",
       "      <td>THE HUNTERS return in their third brilliant no...</td>\n",
       "      <td>2</td>\n",
       "      <td>1</td>\n",
       "      <td>5.398163</td>\n",
       "      <td>0</td>\n",
       "      <td>1</td>\n",
       "      <td>1</td>\n",
       "      <td>1</td>\n",
       "      <td>1</td>\n",
       "    </tr>\n",
       "    <tr>\n",
       "      <th>1</th>\n",
       "      <td>Guru Dutt: A Tragedy in Three Acts</td>\n",
       "      <td>0.0</td>\n",
       "      <td>0.370151</td>\n",
       "      <td>0.520389</td>\n",
       "      <td>A layered portrait of a troubled genius for wh...</td>\n",
       "      <td>50</td>\n",
       "      <td>3</td>\n",
       "      <td>5.317777</td>\n",
       "      <td>43</td>\n",
       "      <td>1</td>\n",
       "      <td>1</td>\n",
       "      <td>1</td>\n",
       "      <td>1</td>\n",
       "    </tr>\n",
       "    <tr>\n",
       "      <th>2</th>\n",
       "      <td>Leviathan (Penguin Classics)</td>\n",
       "      <td>0.0</td>\n",
       "      <td>0.849347</td>\n",
       "      <td>0.441125</td>\n",
       "      <td>\"During the time men live without a common Pow...</td>\n",
       "      <td>126</td>\n",
       "      <td>7</td>\n",
       "      <td>5.703783</td>\n",
       "      <td>0</td>\n",
       "      <td>1</td>\n",
       "      <td>1</td>\n",
       "      <td>1</td>\n",
       "      <td>1</td>\n",
       "    </tr>\n",
       "    <tr>\n",
       "      <th>3</th>\n",
       "      <td>A Pocket Full of Rye (Miss Marple)</td>\n",
       "      <td>0.0</td>\n",
       "      <td>0.452122</td>\n",
       "      <td>0.513718</td>\n",
       "      <td>A handful of grain is found in the pocket of a...</td>\n",
       "      <td>64</td>\n",
       "      <td>6</td>\n",
       "      <td>5.198497</td>\n",
       "      <td>12</td>\n",
       "      <td>1</td>\n",
       "      <td>1</td>\n",
       "      <td>1</td>\n",
       "      <td>1</td>\n",
       "    </tr>\n",
       "    <tr>\n",
       "      <th>4</th>\n",
       "      <td>LIFE 70 Years of Extraordinary Photography</td>\n",
       "      <td>1.0</td>\n",
       "      <td>1.000000</td>\n",
       "      <td>0.263277</td>\n",
       "      <td>For seven decades, \"Life\" has been thrilling t...</td>\n",
       "      <td>157</td>\n",
       "      <td>2</td>\n",
       "      <td>6.873806</td>\n",
       "      <td>0</td>\n",
       "      <td>1</td>\n",
       "      <td>1</td>\n",
       "      <td>1</td>\n",
       "      <td>1</td>\n",
       "    </tr>\n",
       "  </tbody>\n",
       "</table>\n",
       "</div>"
      ],
      "text/plain": [
       "                                        Title  Edition   Reviews   Ratings  \\\n",
       "0         The Prisoner's Gold (The Hunters 3)      0.0  0.409600  0.468746   \n",
       "1          Guru Dutt: A Tragedy in Three Acts      0.0  0.370151  0.520389   \n",
       "2                Leviathan (Penguin Classics)      0.0  0.849347  0.441125   \n",
       "3          A Pocket Full of Rye (Miss Marple)      0.0  0.452122  0.513718   \n",
       "4  LIFE 70 Years of Extraordinary Photography      1.0  1.000000  0.263277   \n",
       "\n",
       "                                            Synopsis  Genre  BookCategory  \\\n",
       "0  THE HUNTERS return in their third brilliant no...      2             1   \n",
       "1  A layered portrait of a troubled genius for wh...     50             3   \n",
       "2  \"During the time men live without a common Pow...    126             7   \n",
       "3  A handful of grain is found in the pocket of a...     64             6   \n",
       "4  For seven decades, \"Life\" has been thrilling t...    157             2   \n",
       "\n",
       "      Price  author_0  author_1  author_2  author_3  author_4  \n",
       "0  5.398163         0         1         1         1         1  \n",
       "1  5.317777        43         1         1         1         1  \n",
       "2  5.703783         0         1         1         1         1  \n",
       "3  5.198497        12         1         1         1         1  \n",
       "4  6.873806         0         1         1         1         1  "
      ]
     },
     "execution_count": 2,
     "metadata": {},
     "output_type": "execute_result"
    }
   ],
   "source": [
    "train, val, test, featureSizes = getBookDataset('../Data_Train.xlsx', '../Data_Test.xlsx', returnValidation=False)\n",
    "train.head()"
   ]
  },
  {
   "cell_type": "code",
   "execution_count": 3,
   "metadata": {},
   "outputs": [
    {
     "data": {
      "image/png": "[encoded data removed]",
      "text/plain": [
       "<Figure size 1440x360 with 3 Axes>"
      ]
     },
     "metadata": {
      "needs_background": "light"
     },
     "output_type": "display_data"
    }
   ],
   "source": [
    "fig, (ax1, ax2, ax3) = plt.subplots(1, 3, figsize=(20, 5), sharey=True)\n",
    "plt.suptitle('Histograms of Reviews and Ratings', fontsize=14)\n",
    "\n",
    "ax1.hist(train.Ratings)\n",
    "ax1.set_xlabel('Ratings root(log(1+x)/10)', fontsize=12)\n",
    "ax1.set_ylabel('Frequencies')\n",
    "\n",
    "ax2.hist(train.Reviews)\n",
    "ax2.set_xlabel('Reviews (x/5)**4', fontsize=12)\n",
    "\n",
    "ax3.hist(train.Price)\n",
    "ax3.set_xlabel('Prices log(1+x)', fontsize=12);"
   ]
  },
  {
   "cell_type": "code",
   "execution_count": 4,
   "metadata": {},
   "outputs": [
    {
     "name": "stdout",
     "output_type": "stream",
     "text": [
      "Author          torch.int64     [8, 5]\n",
      "Genre           torch.int64     [8]\n",
      "BookCategory    torch.int64     [8]\n",
      "Numeric         torch.float32   [8, 3]\n",
      "TitleInput      torch.int64     [8, 37]\n",
      "TitleMask       torch.int64     [8, 37]\n",
      "SynopsisInput   torch.int64     [8, 346]\n",
      "SynopsisMask    torch.int64     [8, 346]\n",
      "Price           torch.float32   [8]\n"
     ]
    }
   ],
   "source": [
    "loader = BookDataset(train).loader()\n",
    "batch = next(iter(loader))\n",
    "for key in batch:\n",
    "    print(key.ljust(15), str(batch[key].dtype).ljust(15), list(batch[key].shape))"
   ]
  },
  {
   "cell_type": "code",
   "execution_count": 5,
   "metadata": {},
   "outputs": [
    {
     "name": "stdout",
     "output_type": "stream",
     "text": [
      "Author          torch.int64     [8, 5]\n",
      "Genre           torch.int64     [8]\n",
      "BookCategory    torch.int64     [8]\n",
      "Numeric         torch.float32   [8, 3]\n",
      "TitleInput      torch.int64     [8, 31]\n",
      "TitleMask       torch.int64     [8, 31]\n",
      "SynopsisInput   torch.int64     [8, 403]\n",
      "SynopsisMask    torch.int64     [8, 403]\n"
     ]
    }
   ],
   "source": [
    "loader = BookDataset(test).loader()\n",
    "batch = next(iter(loader))\n",
    "for key in batch:\n",
    "    print(key.ljust(15), str(batch[key].dtype).ljust(15), list(batch[key].shape))"
   ]
  }
 ],
 "metadata": {
  "kernelspec": {
   "display_name": "Python 3",
   "language": "python",
   "name": "python3"
  },
  "language_info": {
   "codemirror_mode": {
    "name": "ipython",
    "version": 3
   },
   "file_extension": ".py",
   "mimetype": "text/x-python",
   "name": "python",
   "nbconvert_exporter": "python",
   "pygments_lexer": "ipython3",
   "version": "3.7.7"
  }
 },
 "nbformat": 4,
 "nbformat_minor": 4
}
