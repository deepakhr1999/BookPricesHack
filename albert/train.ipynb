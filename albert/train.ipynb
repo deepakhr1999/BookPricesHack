{
 "cells": [
  {
   "cell_type": "code",
   "execution_count": 1,
   "metadata": {},
   "outputs": [],
   "source": [
    "import torch\n",
    "from torch import nn\n",
    "import torch.nn.functional as F\n",
    "import pytorch_lightning as pl\n",
    "from pytorch_lightning.callbacks.early_stopping import EarlyStopping\n",
    "from pytorch_lightning.callbacks import ModelCheckpoint\n",
    "\n",
    "from torch.optim import Adam\n",
    "from torch.optim.lr_scheduler import LambdaLR\n",
    "\n",
    "from torch.utils.data import DataLoader\n",
    "from BookDataset import getBookDataset, BookDataset\n",
    "from embeddings import EmbeddingSummation\n",
    "\n",
    "from torch.utils.tensorboard import SummaryWriter"
   ]
  },
  {
   "cell_type": "code",
   "execution_count": 2,
   "metadata": {},
   "outputs": [
    {
     "name": "stdout",
     "output_type": "stream",
     "text": [
      "Train:  (6237, 13)\n",
      "Test:   (1560, 12)\n"
     ]
    }
   ],
   "source": [
    "train, val, test, featureSizes = getBookDataset('../Data_Train.xlsx', '../Data_Test.xlsx', returnValidation=False)\n",
    "\n",
    "trainLoader = BookDataset(train).loader(16)\n",
    "testLoader  = BookDataset(test).loader(16, shuffle=False)\n",
    "if val:\n",
    "    valLoader = BookDataset(val).loader(16, shuffle=False)\n",
    "    \n",
    "print('Train: ', train.shape)\n",
    "print('Test:  ', test.shape)"
   ]
  },
  {
   "cell_type": "code",
   "execution_count": 3,
   "metadata": {},
   "outputs": [
    {
     "name": "stdout",
     "output_type": "stream",
     "text": [
      "BookPrice model has 7,836,741 parameters\n"
     ]
    }
   ],
   "source": [
    "class BookPrice(pl.LightningModule):\n",
    "    def __init__(self, config):\n",
    "        super().__init__()\n",
    "        self.config = config\n",
    "        \n",
    "        outDims = lambda x: int(x**.25) + 1\n",
    "\n",
    "        # embeddings for categorical variables: Author, Genre, BookCategory\n",
    "        self.AuthorEmbedding = nn.Embedding(config.Author,  outDims(config.Author))\n",
    "        self.GenreEmbedding  = nn.Embedding(config.Genre,  outDims(config.Genre))\n",
    "        self.BookCategoryEmbedding  = nn.Embedding(config.BookCategory,  outDims(config.BookCategory))\n",
    "        categoricalUnits = 5 * outDims(config.Author) + outDims(config.Genre) + outDims(config.BookCategory)\n",
    "        # ------\n",
    "        \n",
    "        \n",
    "        # embeddings for text features Title, Synopsis\n",
    "        self.TitleEmbedding    = EmbeddingSummation()\n",
    "        self.SynopsisEmbedding = EmbeddingSummation()\n",
    "        textUnits = 128 * 2\n",
    "        #-------\n",
    "        \n",
    "        # Ratings, Reviews and Edition\n",
    "        numericUnits = 3\n",
    "        #-------\n",
    "\n",
    "        total = categoricalUnits + textUnits + numericUnits\n",
    "        \n",
    "        self.Dense = nn.Sequential(\n",
    "            nn.Linear(total, 64), nn.LayerNorm(64), nn.Tanh(), nn.Dropout(.2),\n",
    "            nn.Linear(64, 32), nn.LayerNorm(32), nn.Tanh(), nn.Dropout(.2),\n",
    "            nn.Linear(32, 1)\n",
    "        )\n",
    "\n",
    "    def forward(self, batch:dict) -> torch.Tensor:\n",
    "        \"\"\"\n",
    "        Author          torch.int64     [b, 5]\n",
    "        Genre           torch.int64     [b]\n",
    "        BookCategory    torch.int64     [b]\n",
    "        Numeric         torch.float32   [b, 3]\n",
    "        TitleInput      torch.int64     [b, 37]\n",
    "        TitleMask       torch.int64     [b, 37]\n",
    "        SynopsisInput   torch.int64     [b, 346]\n",
    "        SynopsisMask    torch.int64     [b, 346]\n",
    "        Price           torch.float32   [b]\n",
    "        \"\"\"\n",
    "        authDim = 5 * self.AuthorEmbedding.embedding_dim\n",
    "        inputs = torch.cat([\n",
    "            # categoricals\n",
    "            self.AuthorEmbedding(batch['Author']).reshape(-1, authDim),\n",
    "            self.GenreEmbedding(batch['Genre']),\n",
    "            self.BookCategoryEmbedding(batch['BookCategory']),\n",
    "            \n",
    "            # text as embeddings\n",
    "            self.TitleEmbedding(batch['TitleInput'], batch['TitleMask']),\n",
    "            self.SynopsisEmbedding(batch['SynopsisInput'], batch['SynopsisMask']),\n",
    "            \n",
    "            # Numeric\n",
    "            batch['Numeric']\n",
    "        ], dim=-1)\n",
    "        \n",
    "        logits = self.Dense(inputs)\n",
    "        return logits\n",
    "    \n",
    "    \n",
    "    def training_step(self, batch:dict, batchIdx:int)->torch.Tensor:\n",
    "        logits = self(batch)\n",
    "\n",
    "        loss = F.mse_loss(logits, batch['Price'].reshape(-1, 1))\n",
    "        self.log('loss', loss)\n",
    "    \n",
    "        return loss\n",
    "\n",
    "    def training_epoch_end(self, outputs):\n",
    "        loss  = torch.Tensor([ output['loss'] for output in outputs ]).mean()\n",
    "        score = 1 - loss.pow(.5)\n",
    "        self.log('score', score)\n",
    "    \n",
    "    def validation_step(self, batch:dict, batchIdx:int):\n",
    "        logits = self(batch)\n",
    "        loss = F.mse_loss(logits, batch['Price'].reshape(-1, 1))\n",
    "        self.log('val_loss', loss)\n",
    "        return loss\n",
    "\n",
    "    def configure_optimizers(self):\n",
    "        optimizer = Adam(self.parameters(), lr=1e-3)\n",
    "        scheduler = LambdaLR(optimizer, lr_lambda=lambda epoch: 0.99 * epoch)\n",
    "        return [optimizer], [scheduler]\n",
    "\n",
    "    \n",
    "model = BookPrice(featureSizes)\n",
    "x = sum(p.numel() for p in model.parameters())\n",
    "print(f'BookPrice model has {x:,} parameters')"
   ]
  },
  {
   "cell_type": "code",
   "execution_count": 4,
   "metadata": {},
   "outputs": [
    {
     "name": "stderr",
     "output_type": "stream",
     "text": [
      "c:\\users\\deepak h r\\appdata\\local\\programs\\python\\python37\\lib\\site-packages\\transformers\\models\\albert\\modeling_albert.py:229: TracerWarning: Converting a tensor to a Python index might cause the trace to be incorrect. We can't record the data flow of Python values, so this value will be treated as a constant in the future. This means that the trace might not generalize to other inputs!\n",
      "  position_ids = self.position_ids[:, :seq_length]\n"
     ]
    }
   ],
   "source": [
    "writer = SummaryWriter('logs/model_graph')\n",
    "batch = next(iter(trainLoader))\n",
    "writer.add_graph(model, batch);\n",
    "writer.close()"
   ]
  },
  {
   "cell_type": "code",
   "execution_count": 5,
   "metadata": {},
   "outputs": [],
   "source": [
    "tbl = pl.loggers.TensorBoardLogger('logs/train')\n",
    "\n",
    "ckpt_metric = 'val_loss'\n",
    "save_mode = 'min'\n",
    "b = 32\n",
    "\n",
    "if val is None:\n",
    "    ckpt_metric = 'loss'\n",
    "\n",
    "stopping = EarlyStopping(monitor=ckpt_metric, patience=10, mode=save_mode)\n",
    "ckpt = ModelCheckpoint(dirpath='checkpoints', filename='{epoch}-{'+ckpt_metric+':.5f}',\n",
    "                       monitor=ckpt_metric, mode=save_mode,\n",
    "                      save_weights_only=True, verbose=True)"
   ]
  },
  {
   "cell_type": "code",
   "execution_count": 10,
   "metadata": {},
   "outputs": [
    {
     "name": "stderr",
     "output_type": "stream",
     "text": [
      "\n",
      "  | Name                  | Type               | Params\n",
      "-------------------------------------------------------------\n",
      "0 | AuthorEmbedding       | Embedding          | 2.9 K \n",
      "1 | GenreEmbedding        | Embedding          | 832   \n",
      "2 | BookCategoryEmbedding | Embedding          | 24    \n",
      "3 | TitleEmbedding        | EmbeddingSummation | 3.9 M \n",
      "4 | SynopsisEmbedding     | EmbeddingSummation | 3.9 M \n",
      "5 | Dense                 | Sequential         | 20.9 K\n",
      "-------------------------------------------------------------\n",
      "7.8 M     Trainable params\n",
      "0         Non-trainable params\n",
      "7.8 M     Total params\n"
     ]
    },
    {
     "data": {
      "application/vnd.jupyter.widget-view+json": {
       "model_id": "",
       "version_major": 2,
       "version_minor": 0
      },
      "text/plain": [
       "HBox(children=(FloatProgress(value=1.0, bar_style='info', description='Validation sanity check', layout=Layout…"
      ]
     },
     "metadata": {},
     "output_type": "display_data"
    },
    {
     "data": {
      "application/vnd.jupyter.widget-view+json": {
       "model_id": "75c8fd0e97ef4978877c8b2d6cb3b37c",
       "version_major": 2,
       "version_minor": 0
      },
      "text/plain": [
       "HBox(children=(FloatProgress(value=1.0, bar_style='info', description='Training', layout=Layout(flex='2'), max…"
      ]
     },
     "metadata": {},
     "output_type": "display_data"
    },
    {
     "data": {
      "text/plain": [
       "1"
      ]
     },
     "execution_count": 10,
     "metadata": {},
     "output_type": "execute_result"
    }
   ],
   "source": [
    "trainer = pl.Trainer(gpus = 1, callbacks=[stopping, ckpt], logger=tbl)\n",
    "\n",
    "if val is not None:\n",
    "    valLoader = DataLoader(BookDataset(val), batch_size=16, shuffle=False)\n",
    "    trainer.fit(model, trainLoader, valLoader)\n",
    "else:\n",
    "    trainer.fit(model, trainLoader);"
   ]
  },
  {
   "cell_type": "code",
   "execution_count": 11,
   "metadata": {},
   "outputs": [
    {
     "name": "stdout",
     "output_type": "stream",
     "text": [
      "Saving model from best ckpt C:\\Users\\Deepak H R\\Desktop\\data\\BookPrice\\albert\\checkpoints\\epoch=24-loss=0.05248.ckpt\n",
      "Saving submission  (1560, 1)\n"
     ]
    }
   ],
   "source": [
    "print(\"Saving model from best ckpt\", ckpt.best_model_path)\n",
    "model = BookPrice.load_from_checkpoint(ckpt.best_model_path, config=featureSizes).eval().cuda()\n",
    "\n",
    "results = []\n",
    "with torch.no_grad():\n",
    "    for batch in testLoader:\n",
    "        for key in batch:\n",
    "            if key not in 'Title Synopsis'.split():\n",
    "                batch[key] = batch[key].to(model.device)\n",
    "        preds = model(batch)\n",
    "        results.append(preds)\n",
    "results = torch.cat(results).cpu().numpy().reshape(-1)\n",
    "\n",
    "submission = pd.DataFrame({\n",
    "    'Price': np.exp(results) - 1\n",
    "})\n",
    "print(\"Saving submission \", submission.shape)\n",
    "submission.to_excel('submission.xlsx', index=False)"
   ]
  },
  {
   "cell_type": "code",
   "execution_count": null,
   "metadata": {},
   "outputs": [],
   "source": []
  }
 ],
 "metadata": {
  "kernelspec": {
   "display_name": "Python 3",
   "language": "python",
   "name": "python3"
  },
  "language_info": {
   "codemirror_mode": {
    "name": "ipython",
    "version": 3
   },
   "file_extension": ".py",
   "mimetype": "text/x-python",
   "name": "python",
   "nbconvert_exporter": "python",
   "pygments_lexer": "ipython3",
   "version": "3.7.7"
  }
 },
 "nbformat": 4,
 "nbformat_minor": 4
}
