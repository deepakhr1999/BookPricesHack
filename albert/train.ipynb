{
 "cells": [
  {
   "cell_type": "code",
   "execution_count": 5,
   "metadata": {},
   "outputs": [],
   "source": [
    "import torch\n",
    "from torch import nn\n",
    "import torch.nn.functional as F\n",
    "import pytorch_lightning as pl\n",
    "from pytorch_lightning.callbacks.early_stopping import EarlyStopping\n",
    "from pytorch_lightning.callbacks import ModelCheckpoint\n",
    "\n",
    "from torch.optim import Adam\n",
    "from torch.optim.lr_scheduler import LambdaLR\n",
    "\n",
    "from torch.utils.data import DataLoader\n",
    "from BookDataset import getBookDataset, BookDataset\n",
    "from embeddings import EmbeddingSummation"
   ]
  },
  {
   "cell_type": "code",
   "execution_count": 6,
   "metadata": {},
   "outputs": [],
   "source": [
    "train, val, test, featureSizes = getBookDataset('../Data_Train.xlsx', '../Data_Test.xlsx')"
   ]
  },
  {
   "cell_type": "code",
   "execution_count": 7,
   "metadata": {},
   "outputs": [
    {
     "name": "stdout",
     "output_type": "stream",
     "text": [
      "BookPrice model has 7,836,458 parameters\n"
     ]
    }
   ],
   "source": [
    "class BookPrice(pl.LightningModule):\n",
    "    def __init__(self, config):\n",
    "        super().__init__()\n",
    "        self.config = config\n",
    "        outDims = lambda x: int(x**.25) + 1\n",
    "        self.outDims = outDims\n",
    "        \n",
    "        # embeddings for categorical variables: Author, Genre, BookCategory\n",
    "        self.AuthorEmbedding = nn.Embedding(config.Author,  outDims(config.Author))\n",
    "        self.GenreEmbedding  = nn.Embedding(config.Genre,  outDims(config.Genre))\n",
    "        self.BookCategoryEmbedding  = nn.Embedding(config.BookCategory,  outDims(config.BookCategory))\n",
    "        categoricalUnits = 5 * outDims(config.Author) + outDims(config.Genre) + outDims(config.BookCategory)\n",
    "        # ------\n",
    "        \n",
    "        \n",
    "        # embeddings for text features Title, Synopsis\n",
    "        self.TitleEmbedding    = EmbeddingSummation()\n",
    "        self.SynopsisEmbedding = EmbeddingSummation()\n",
    "        textUnits = 128 * 2\n",
    "        #-------\n",
    "        \n",
    "        # Ratings, Reviews and Edition\n",
    "        numericUnits = 3\n",
    "        #-------\n",
    "\n",
    "        total = categoricalUnits + textUnits + numericUnits\n",
    "        \n",
    "        self.Dense = nn.Sequential(\n",
    "            nn.Linear(total, 64), nn.LayerNorm(64), nn.Tanh(),\n",
    "            nn.Linear(64, 32), nn.LayerNorm(32), nn.Tanh(), \n",
    "            nn.Linear(32, 1)\n",
    "        )\n",
    "\n",
    "    def forward(self, batch:dict) -> torch.Tensor:\n",
    "        authors = torch.stack([ batch[f'author_{i}'] for i in range(5) ]).T\n",
    "        authDim = 5 * self.outDims(self.config.Author)\n",
    "        categoricals = [\n",
    "            self.AuthorEmbedding(authors).reshape(-1, authDim),\n",
    "            self.GenreEmbedding(batch['Genre']),\n",
    "            self.BookCategoryEmbedding(batch['BookCategory'])\n",
    "        ]\n",
    "        \n",
    "        text = [\n",
    "            self.TitleEmbedding(batch['Title']),\n",
    "            self.SynopsisEmbedding(batch['Synopsis'])\n",
    "        ]\n",
    "        \n",
    "        numericals  = [torch.stack([\n",
    "            batch['Ratings'],\n",
    "            batch['Reviews'],\n",
    "            batch['Edition']\n",
    "        ]).T]\n",
    "        \n",
    "        inputs = torch.cat(categoricals + text + numericals, dim=-1)\n",
    "        \n",
    "        logits = self.Dense(inputs)\n",
    "        return logits\n",
    "    \n",
    "    \n",
    "    def training_step(self, batch:dict, batchIdx:int)->torch.Tensor:\n",
    "        logits = self(batch)\n",
    "\n",
    "        loss = F.mse_loss(logits, batch['Price'].reshape(-1, 1))\n",
    "        self.log('loss', loss)\n",
    "\n",
    "        return loss\n",
    "\n",
    "    def validation_step(self, batch:dict, batchIdx:int):\n",
    "        logits = self(batch)\n",
    "        loss = F.mse_loss(logits, batch['Price'].reshape(-1, 1))\n",
    "        \n",
    "        score = 1 - loss.pow(.5)\n",
    "        self.log('val_score', score)\n",
    "        return score\n",
    "\n",
    "    def configure_optimizers(self):\n",
    "        optimizer = Adam(self.parameters(), lr=1e-3)\n",
    "        scheduler = LambdaLR(optimizer, lr_lambda=lambda epoch: 0.99 * epoch)\n",
    "        return [optimizer], [scheduler]\n",
    "\n",
    "    \n",
    "model = BookPrice(featureSizes)\n",
    "# loader = DataLoader(BookDataset(train), batch_size=8)\n",
    "# batch = next(iter(loader))\n",
    "# with torch.no_grad():\n",
    "#     print(model.training_step(batch, 0))\n",
    "x = sum(p.numel() for p in model.parameters())\n",
    "print(f'BookPrice model has {x:,} parameters')"
   ]
  },
  {
   "cell_type": "code",
   "execution_count": null,
   "metadata": {},
   "outputs": [
    {
     "name": "stderr",
     "output_type": "stream",
     "text": [
      "GPU available: True, used: True\n",
      "TPU available: None, using: 0 TPU cores\n",
      "LOCAL_RANK: 0 - CUDA_VISIBLE_DEVICES: [0]\n",
      "\n",
      "  | Name                  | Type               | Params\n",
      "-------------------------------------------------------------\n",
      "0 | AuthorEmbedding       | Embedding          | 2.6 K \n",
      "1 | GenreEmbedding        | Embedding          | 804   \n",
      "2 | BookCategoryEmbedding | Embedding          | 24    \n",
      "3 | TitleEmbedding        | EmbeddingSummation | 3.9 M \n",
      "4 | SynopsisEmbedding     | EmbeddingSummation | 3.9 M \n",
      "5 | Dense                 | Sequential         | 20.9 K\n",
      "-------------------------------------------------------------\n",
      "7.8 M     Trainable params\n",
      "0         Non-trainable params\n",
      "7.8 M     Total params\n"
     ]
    },
    {
     "data": {
      "application/vnd.jupyter.widget-view+json": {
       "model_id": "",
       "version_major": 2,
       "version_minor": 0
      },
      "text/plain": [
       "HBox(children=(FloatProgress(value=1.0, bar_style='info', description='Validation sanity check', layout=Layout…"
      ]
     },
     "metadata": {},
     "output_type": "display_data"
    },
    {
     "data": {
      "application/vnd.jupyter.widget-view+json": {
       "model_id": "34435dac5a0b423c9a22c5a96623d0f9",
       "version_major": 2,
       "version_minor": 0
      },
      "text/plain": [
       "HBox(children=(FloatProgress(value=1.0, bar_style='info', description='Training', layout=Layout(flex='2'), max…"
      ]
     },
     "metadata": {},
     "output_type": "display_data"
    },
    {
     "data": {
      "application/vnd.jupyter.widget-view+json": {
       "model_id": "",
       "version_major": 2,
       "version_minor": 0
      },
      "text/plain": [
       "HBox(children=(FloatProgress(value=1.0, bar_style='info', description='Validating', layout=Layout(flex='2'), m…"
      ]
     },
     "metadata": {},
     "output_type": "display_data"
    },
    {
     "data": {
      "application/vnd.jupyter.widget-view+json": {
       "model_id": "",
       "version_major": 2,
       "version_minor": 0
      },
      "text/plain": [
       "HBox(children=(FloatProgress(value=1.0, bar_style='info', description='Validating', layout=Layout(flex='2'), m…"
      ]
     },
     "metadata": {},
     "output_type": "display_data"
    },
    {
     "data": {
      "application/vnd.jupyter.widget-view+json": {
       "model_id": "",
       "version_major": 2,
       "version_minor": 0
      },
      "text/plain": [
       "HBox(children=(FloatProgress(value=1.0, bar_style='info', description='Validating', layout=Layout(flex='2'), m…"
      ]
     },
     "metadata": {},
     "output_type": "display_data"
    },
    {
     "data": {
      "application/vnd.jupyter.widget-view+json": {
       "model_id": "",
       "version_major": 2,
       "version_minor": 0
      },
      "text/plain": [
       "HBox(children=(FloatProgress(value=1.0, bar_style='info', description='Validating', layout=Layout(flex='2'), m…"
      ]
     },
     "metadata": {},
     "output_type": "display_data"
    },
    {
     "data": {
      "application/vnd.jupyter.widget-view+json": {
       "model_id": "",
       "version_major": 2,
       "version_minor": 0
      },
      "text/plain": [
       "HBox(children=(FloatProgress(value=1.0, bar_style='info', description='Validating', layout=Layout(flex='2'), m…"
      ]
     },
     "metadata": {},
     "output_type": "display_data"
    },
    {
     "data": {
      "application/vnd.jupyter.widget-view+json": {
       "model_id": "",
       "version_major": 2,
       "version_minor": 0
      },
      "text/plain": [
       "HBox(children=(FloatProgress(value=1.0, bar_style='info', description='Validating', layout=Layout(flex='2'), m…"
      ]
     },
     "metadata": {},
     "output_type": "display_data"
    }
   ],
   "source": [
    "stopping = EarlyStopping(monitor='val_score', patience=10, mode='max')\n",
    "ckpt = ModelCheckpoint(dirpath='chekpoints', filename='{epoch}-{val_score:.5f}',\n",
    "                       monitor='val_score', mode='max',\n",
    "                      save_weights_only=True)\n",
    "\n",
    "trainer = pl.Trainer(gpus = 1, callbacks=[stopping, ckpt])\n",
    "\n",
    "loaders = []\n",
    "for i, data in enumerate([train, val, test]):\n",
    "    shuffle = i==0\n",
    "    loaders.append( DataLoader(BookDataset(data), batch_size=32, shuffle=shuffle ) )\n",
    "\n",
    "trainer.fit(model, loaders[0], loaders[1])"
   ]
  },
  {
   "cell_type": "code",
   "execution_count": 5,
   "metadata": {},
   "outputs": [
    {
     "name": "stderr",
     "output_type": "stream",
     "text": [
      "c:\\users\\deepak h r\\appdata\\local\\programs\\python\\python37\\lib\\site-packages\\pytorch_lightning\\utilities\\distributed.py:49: UserWarning: you passed in a test_dataloader but have no test_step. Skipping test loop\n",
      "  warnings.warn(*args, **kwargs)\n"
     ]
    },
    {
     "data": {
      "text/plain": [
       "1"
      ]
     },
     "execution_count": 5,
     "metadata": {},
     "output_type": "execute_result"
    }
   ],
   "source": [
    "trainer.test(model, loaders[2])"
   ]
  },
  {
   "cell_type": "code",
   "execution_count": 6,
   "metadata": {},
   "outputs": [
    {
     "ename": "NameError",
     "evalue": "name 'testLoader' is not defined",
     "output_type": "error",
     "traceback": [
      "\u001b[1;31m---------------------------------------------------------------------------\u001b[0m",
      "\u001b[1;31mNameError\u001b[0m                                 Traceback (most recent call last)",
      "\u001b[1;32m<ipython-input-6-c9eb07178aa5>\u001b[0m in \u001b[0;36m<module>\u001b[1;34m\u001b[0m\n\u001b[0;32m      2\u001b[0m \u001b[0mmodel\u001b[0m \u001b[1;33m=\u001b[0m \u001b[0mmodel\u001b[0m\u001b[1;33m.\u001b[0m\u001b[0meval\u001b[0m\u001b[1;33m(\u001b[0m\u001b[1;33m)\u001b[0m\u001b[1;33m\u001b[0m\u001b[1;33m\u001b[0m\u001b[0m\n\u001b[0;32m      3\u001b[0m \u001b[1;32mwith\u001b[0m \u001b[0mtorch\u001b[0m\u001b[1;33m.\u001b[0m\u001b[0mno_grad\u001b[0m\u001b[1;33m(\u001b[0m\u001b[1;33m)\u001b[0m\u001b[1;33m:\u001b[0m\u001b[1;33m\u001b[0m\u001b[1;33m\u001b[0m\u001b[0m\n\u001b[1;32m----> 4\u001b[1;33m     \u001b[1;32mfor\u001b[0m \u001b[0mbatch\u001b[0m \u001b[1;32min\u001b[0m \u001b[0mtestLoader\u001b[0m\u001b[1;33m:\u001b[0m\u001b[1;33m\u001b[0m\u001b[1;33m\u001b[0m\u001b[0m\n\u001b[0m\u001b[0;32m      5\u001b[0m         \u001b[1;32mfor\u001b[0m \u001b[0mkey\u001b[0m \u001b[1;32min\u001b[0m \u001b[0mbatch\u001b[0m\u001b[1;33m:\u001b[0m\u001b[1;33m\u001b[0m\u001b[1;33m\u001b[0m\u001b[0m\n\u001b[0;32m      6\u001b[0m             \u001b[0mbatch\u001b[0m\u001b[1;33m[\u001b[0m\u001b[0mkey\u001b[0m\u001b[1;33m]\u001b[0m \u001b[1;33m=\u001b[0m \u001b[0mbatch\u001b[0m\u001b[1;33m[\u001b[0m\u001b[0mkey\u001b[0m\u001b[1;33m]\u001b[0m\u001b[1;33m.\u001b[0m\u001b[0mto\u001b[0m\u001b[1;33m(\u001b[0m\u001b[0mmodel\u001b[0m\u001b[1;33m.\u001b[0m\u001b[0mdevice\u001b[0m\u001b[1;33m)\u001b[0m\u001b[1;33m\u001b[0m\u001b[1;33m\u001b[0m\u001b[0m\n",
      "\u001b[1;31mNameError\u001b[0m: name 'testLoader' is not defined"
     ]
    }
   ],
   "source": [
    "results = []\n",
    "model = model.eval()\n",
    "with torch.no_grad():\n",
    "    for batch in testLoader:\n",
    "        for key in batch:\n",
    "            batch[key] = batch[key].to(model.device)\n",
    "        preds = model.test_step(batch, 0)\n",
    "        results.append(preds)\n",
    "results = torch.cat(results).cpu().numpy()"
   ]
  },
  {
   "cell_type": "code",
   "execution_count": null,
   "metadata": {},
   "outputs": [],
   "source": [
    "pd.DataFrame({\n",
    "    'Price': np.exp(results) - 1\n",
    "}).to_excel('mysubmission_tanh.xlsx', index=False)"
   ]
  },
  {
   "cell_type": "code",
   "execution_count": null,
   "metadata": {},
   "outputs": [],
   "source": []
  }
 ],
 "metadata": {
  "kernelspec": {
   "display_name": "Python 3",
   "language": "python",
   "name": "python3"
  },
  "language_info": {
   "codemirror_mode": {
    "name": "ipython",
    "version": 3
   },
   "file_extension": ".py",
   "mimetype": "text/x-python",
   "name": "python",
   "nbconvert_exporter": "python",
   "pygments_lexer": "ipython3",
   "version": "3.7.7"
  }
 },
 "nbformat": 4,
 "nbformat_minor": 4
}
