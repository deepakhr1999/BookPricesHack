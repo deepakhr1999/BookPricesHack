{
 "cells": [
  {
   "cell_type": "code",
   "execution_count": 1,
   "metadata": {},
   "outputs": [],
   "source": [
    "import torch\n",
    "from transformers import AutoTokenizer\n",
    "from albert.embeddings import EmbeddingSummation\n",
    "from torch.utils.data import DataLoader"
   ]
  },
  {
   "cell_type": "code",
   "execution_count": 2,
   "metadata": {},
   "outputs": [],
   "source": [
    "train = pd.read_excel('Data_Train.xlsx')\n",
    "test = pd.read_excel('Data_Test.xlsx')\n",
    "\n",
    "df = pd.concat([train, test], ignore_index=True)"
   ]
  },
  {
   "cell_type": "code",
   "execution_count": 3,
   "metadata": {},
   "outputs": [
    {
     "name": "stdout",
     "output_type": "stream",
     "text": [
      "<class 'pandas.core.frame.DataFrame'>\n",
      "RangeIndex: 7797 entries, 0 to 7796\n",
      "Data columns (total 9 columns):\n",
      " #   Column        Non-Null Count  Dtype  \n",
      "---  ------        --------------  -----  \n",
      " 0   Title         7797 non-null   object \n",
      " 1   Author        7797 non-null   object \n",
      " 2   Edition       7797 non-null   object \n",
      " 3   Reviews       7797 non-null   object \n",
      " 4   Ratings       7797 non-null   object \n",
      " 5   Synopsis      7797 non-null   object \n",
      " 6   Genre         7797 non-null   object \n",
      " 7   BookCategory  7797 non-null   object \n",
      " 8   Price         6237 non-null   float64\n",
      "dtypes: float64(1), object(8)\n",
      "memory usage: 548.4+ KB\n"
     ]
    }
   ],
   "source": [
    "df.info()"
   ]
  },
  {
   "cell_type": "markdown",
   "metadata": {},
   "source": [
    "## Edition\n",
    "```\n",
    "'Paperback,– 10 Mar 2016' -> [Paperback, 10, 3, 2016 ]\n",
    "```"
   ]
  },
  {
   "cell_type": "code",
   "execution_count": 4,
   "metadata": {},
   "outputs": [],
   "source": [
    "edition = df.Edition.str.split(',').str\n",
    "df['EditionType'] = edition[0]\n",
    "df['EditionDate'] = edition[-1].str.replace('– ', '')\n",
    "\n",
    "parsedDates = pd.to_datetime(df.EditionDate, errors='coerce')\n",
    "df['EditionMonth'] = parsedDates.dt.month\n",
    "df['EditionYear'] = parsedDates.dt.year\n",
    "df['EditionDay'] = parsedDates.dt.day\n",
    "df['EditionDay EditionMonth EditionYear EditionType EditionDate Edition'.split()].head()\n",
    "\n",
    "df.drop(['EditionDate', 'Edition'], axis=1, inplace=True)"
   ]
  },
  {
   "cell_type": "markdown",
   "metadata": {},
   "source": [
    "## Reviews and Ratings\n",
    "First word to be extracted"
   ]
  },
  {
   "cell_type": "code",
   "execution_count": 5,
   "metadata": {},
   "outputs": [],
   "source": [
    "ratingsTransform = lambda x: (math.log(1+x)/10) ** .5\n",
    "reviewsTransform = lambda x: (x/5)**4\n",
    "\n",
    "df.Reviews = df.Reviews.str.split().str[0].astype('float32').apply(reviewsTransform)\n",
    "df.Ratings = df.Ratings.str.split().str[0].str.replace(',','').astype('float32').apply(ratingsTransform)"
   ]
  },
  {
   "cell_type": "markdown",
   "metadata": {},
   "source": [
    "## Authors"
   ]
  },
  {
   "cell_type": "code",
   "execution_count": 6,
   "metadata": {},
   "outputs": [],
   "source": [
    "def authorTransform(authors):\n",
    "    x = authors.split(', ') # authors separated by commas\n",
    "    x = x[:5] if len(x) > 5 else x # max length is 5\n",
    "    x = [a for a in x if not a.isnumeric()] # exclude numeric names\n",
    "    return x\n",
    "\n",
    "def getAllAuthors(frame):\n",
    "    authorMatrix = list(frame.Author.apply(authorTransform))\n",
    "    return set(itertools.chain(*authorMatrix))"
   ]
  },
  {
   "cell_type": "code",
   "execution_count": 7,
   "metadata": {},
   "outputs": [],
   "source": [
    "authors = list(df.Author.apply(authorTransform))\n",
    "    \n",
    "# drop the original author column\n",
    "df.drop('Author', axis=1, inplace=True)\n",
    "\n",
    "# Convert series of lists into a dataframe of columns\n",
    "expanded_authors = pd.DataFrame(authors, columns=[f'Author{i+1}' for i in range(5)])\n",
    "\n",
    "# assign new columns to the dataframe \n",
    "df = df.assign(**expanded_authors)\n",
    "\n",
    "# replace the Nones in author_i columns by '0'\n",
    "df.replace({None: 'NAN'}, inplace=True)\n",
    "\n",
    "# get only common authors from train\n",
    "trainAuthors = getAllAuthors(train)\n",
    "testAuthors  = getAllAuthors(test)\n",
    "commonAuthors = sorted(list(trainAuthors.intersection(testAuthors)))\n",
    "\n",
    "authorMap = {key : i+2 for i, key in enumerate(commonAuthors)}\n",
    "# padding is 1\n",
    "authorMap['NAN'] = 1\n",
    "for i in range(5):\n",
    "    df[f'Author{i+1}'] = df[f'Author{i+1}'].apply(lambda x: authorMap.get(x, 0) )# unknown is zero"
   ]
  },
  {
   "cell_type": "markdown",
   "metadata": {},
   "source": [
    "## Assigning float types"
   ]
  },
  {
   "cell_type": "code",
   "execution_count": 8,
   "metadata": {},
   "outputs": [
    {
     "data": {
      "text/plain": [
       "Title            object\n",
       "Reviews         float64\n",
       "Ratings         float64\n",
       "Synopsis         object\n",
       "Genre            object\n",
       "BookCategory     object\n",
       "Price           float64\n",
       "EditionType      object\n",
       "EditionMonth    float64\n",
       "EditionYear     float64\n",
       "EditionDay      float64\n",
       "Author1           int64\n",
       "Author2           int64\n",
       "Author3           int64\n",
       "Author4           int64\n",
       "Author5           int64\n",
       "dtype: object"
      ]
     },
     "execution_count": 8,
     "metadata": {},
     "output_type": "execute_result"
    }
   ],
   "source": [
    "for col in 'EditionDay EditionMonth EditionYear Price Reviews Ratings'.split():\n",
    "    df[col] = df[col].astype(float)\n",
    "df.dtypes"
   ]
  },
  {
   "cell_type": "markdown",
   "metadata": {},
   "source": [
    "## Genre and BookCategory"
   ]
  },
  {
   "cell_type": "code",
   "execution_count": 9,
   "metadata": {},
   "outputs": [],
   "source": [
    "def encodeLabel(col):\n",
    "    mask  = df.Price.isnull()\n",
    "    test  = df[mask]\n",
    "    train = df[~mask]\n",
    "    \n",
    "    common = set(train[col]).intersection(set(test[col]))\n",
    "    common = sorted(list(common))\n",
    "    colMap = {key: i+1 for i, key in enumerate(common)}\n",
    "    df[col] = df[col].apply(lambda x: colMap.get(x, 0) ) # zero for unknown"
   ]
  },
  {
   "cell_type": "code",
   "execution_count": 10,
   "metadata": {},
   "outputs": [],
   "source": [
    "for col in 'Genre BookCategory EditionType'.split():\n",
    "    encodeLabel(col)"
   ]
  },
  {
   "cell_type": "markdown",
   "metadata": {},
   "source": [
    "## Aggregating numerical variables w.r.t. categorical vars\n",
    "We groupby each category and take min, max, mean, sum, median\n",
    "General method\n",
    "- Groupby column and aggregate using functions\n",
    "- Rename cols\n",
    "- Merge using df.merge(grouped, on='groupbycolname', how='left')\n",
    "\n",
    "### Example\n",
    "```\n",
    "aggDict = {\n",
    "    'name' : ['count'],\n",
    "    'vals': ['mean','median','min','max','sum'],\n",
    "    'kekw': ['mean','median','min','max','sum'],\n",
    "}\n",
    "toy = pd.DataFrame({\n",
    "    'name' : pd.Series(list('112233') + [None, None]).astype(float),\n",
    "    'vals' : np.arange(8),\n",
    "    'kekw' : 42 * np.arange(8) + 69\n",
    "})\n",
    "\n",
    "# Groupby column and aggregate using functions\n",
    "grouped = toy.groupby('name').agg(agg_func)\n",
    "\n",
    "# Rename cols\n",
    "grouped.columns = [f'name_{col}_{aggregator}' for col, aggregator in grouped.columns]\n",
    "\n",
    "# Merge\n",
    "toy.merge(grouped, on='name', how='left')\n",
    "```"
   ]
  },
  {
   "cell_type": "code",
   "execution_count": 11,
   "metadata": {},
   "outputs": [
    {
     "name": "stdout",
     "output_type": "stream",
     "text": [
      "Aggregating... Genre, BookCategory, EditionType, EditionMonth, EditionYear, EditionDay, Author1, Author2, Author3, Author4, Author5, "
     ]
    },
    {
     "data": {
      "text/plain": [
       "Title                     object\n",
       "Reviews                  float64\n",
       "Ratings                  float64\n",
       "Synopsis                  object\n",
       "Genre                      int64\n",
       "                          ...   \n",
       "Author5_Author1_count      int64\n",
       "Author5_Author2_count      int64\n",
       "Author5_Author3_count      int64\n",
       "Author5_Author4_count      int64\n",
       "Author5_Author5_count      int64\n",
       "Length: 192, dtype: object"
      ]
     },
     "execution_count": 11,
     "metadata": {},
     "output_type": "execute_result"
    }
   ],
   "source": [
    "CATEGORICALS = 'Genre BookCategory EditionType EditionMonth EditionYear EditionDay'.split()\n",
    "CATEGORICALS += [f'Author{i+1}' for i in range(5)]\n",
    "\n",
    "aggDict = {\n",
    "    'Ratings': ['mean','median','min','max','sum'],\n",
    "    'Reviews': ['mean','median','min','max','sum'],\n",
    "}\n",
    "\n",
    "print(\"Aggregating... \", end='')\n",
    "for col in CATEGORICALS:\n",
    "    print(col, end=', ')\n",
    "    # count occurance of each column\n",
    "    aggDict[col] = ['count']\n",
    "    \n",
    "    # Groupby column and aggregate using functions    \n",
    "    grouped = df.groupby(col).agg(aggDict)\n",
    "    \n",
    "    # Rename cols\n",
    "    grouped.columns = ['_'.join([col, c, f]) for c, f in grouped.columns]\n",
    "\n",
    "    # Merge using\n",
    "    df = df.merge(grouped, on=col, how='left')\n",
    "df.dtypes"
   ]
  },
  {
   "cell_type": "markdown",
   "metadata": {},
   "source": [
    "## Title and synopsis \n",
    "- Use ALBERT embeddings to extract text features\n",
    "- We sum the embeddings of each word to get the feature vector of the sentence "
   ]
  },
  {
   "cell_type": "code",
   "execution_count": 12,
   "metadata": {},
   "outputs": [
    {
     "name": "stdout",
     "output_type": "stream",
     "text": [
      "Loading embeddings...\n",
      "Extracting title features..\n"
     ]
    },
    {
     "data": {
      "application/vnd.jupyter.widget-view+json": {
       "model_id": "536f0fc6900346e9be0e5fa49575653f",
       "version_major": 2,
       "version_minor": 0
      },
      "text/plain": [
       "HBox(children=(FloatProgress(value=0.0, max=244.0), HTML(value='')))"
      ]
     },
     "metadata": {},
     "output_type": "display_data"
    },
    {
     "name": "stdout",
     "output_type": "stream",
     "text": [
      "\n",
      "Extracting synopsis features..\n"
     ]
    },
    {
     "data": {
      "application/vnd.jupyter.widget-view+json": {
       "model_id": "d98c5e222ef34de39247415db6a4b3a0",
       "version_major": 2,
       "version_minor": 0
      },
      "text/plain": [
       "HBox(children=(FloatProgress(value=0.0, max=244.0), HTML(value='')))"
      ]
     },
     "metadata": {},
     "output_type": "display_data"
    },
    {
     "name": "stdout",
     "output_type": "stream",
     "text": [
      "\n"
     ]
    }
   ],
   "source": [
    "def extractFeatures(series):\n",
    "    loader = DataLoader(list(series), batch_size=32, shuffle=False)\n",
    "    with torch.no_grad():\n",
    "        outputs = []\n",
    "        for sentences in tqdm(loader):\n",
    "            batch = tokenizer(sentences, **tokenizer_args)\n",
    "            out = model(batch['input_ids'], batch['attention_mask'])\n",
    "            outputs.append(out)\n",
    "    return torch.cat(outputs, dim=0).numpy()\n",
    "\n",
    "print(\"Loading embeddings...\")\n",
    "model = EmbeddingSummation().eval()\n",
    "tokenizer = AutoTokenizer.from_pretrained('albert-base-v2')\n",
    "tokenizer_args = dict(return_tensors='pt', return_token_type_ids=False,\n",
    "                                    padding=True, max_length=512, truncation=True)\n",
    "\n",
    "print(\"Extracting title features..\")\n",
    "titleFeatures = extractFeatures(df.Title)\n",
    "# assign title features\n",
    "df = df.assign(**{\n",
    "    f'TitleFeatures{i+1}': titleFeatures[:,i]\n",
    "    for i in range(128) \n",
    "})\n",
    "\n",
    "print(\"Extracting synopsis features..\")\n",
    "synopsisFeatures = extractFeatures(df.Synopsis)\n",
    "# assign synopsis features\n",
    "df = df.assign(**{\n",
    "    f'SynopsisFeatures{i+1}': synopsisFeatures[:,i]\n",
    "    for i in range(128) \n",
    "})\n",
    "\n",
    "# drop str cols\n",
    "df.drop(['Title', 'Synopsis'], axis=1, inplace=True)"
   ]
  },
  {
   "cell_type": "code",
   "execution_count": 13,
   "metadata": {},
   "outputs": [],
   "source": [
    "df.dtypes.to_csv('DtypesAfterPreprocess.csv')"
   ]
  },
  {
   "cell_type": "code",
   "execution_count": 14,
   "metadata": {},
   "outputs": [],
   "source": [
    "isTest = df.Price.isnull()\n",
    "train = df[ ~ isTest ].reset_index(drop=True)\n",
    "test =  df[isTest].reset_index(drop=True)\n",
    "\n",
    "train.Price = np.log1p(train.Price.astype(float))"
   ]
  },
  {
   "cell_type": "code",
   "execution_count": 15,
   "metadata": {},
   "outputs": [
    {
     "name": "stdout",
     "output_type": "stream",
     "text": [
      "<class 'pandas.core.frame.DataFrame'>\n",
      "RangeIndex: 6237 entries, 0 to 6236\n",
      "Columns: 446 entries, Reviews to SynopsisFeatures128\n",
      "dtypes: float32(256), float64(131), int64(59)\n",
      "memory usage: 15.1 MB\n"
     ]
    }
   ],
   "source": [
    "train.info()"
   ]
  },
  {
   "cell_type": "code",
   "execution_count": 16,
   "metadata": {},
   "outputs": [
    {
     "name": "stdout",
     "output_type": "stream",
     "text": [
      "<class 'pandas.core.frame.DataFrame'>\n",
      "RangeIndex: 1560 entries, 0 to 1559\n",
      "Columns: 446 entries, Reviews to SynopsisFeatures128\n",
      "dtypes: float32(256), float64(131), int64(59)\n",
      "memory usage: 3.8 MB\n"
     ]
    }
   ],
   "source": [
    "test.info()"
   ]
  },
  {
   "cell_type": "code",
   "execution_count": 17,
   "metadata": {},
   "outputs": [
    {
     "data": {
      "image/png": "[encoded data removed]",
      "text/plain": [
       "<Figure size 1440x360 with 3 Axes>"
      ]
     },
     "metadata": {
      "needs_background": "light"
     },
     "output_type": "display_data"
    }
   ],
   "source": [
    "fig, (ax1, ax2, ax3) = plt.subplots(1, 3, figsize=(20, 5), sharey=True)\n",
    "plt.suptitle('Histograms', fontsize=14)\n",
    "\n",
    "sns.histplot(train.Price, ax=ax1)\n",
    "ax1.set_xlabel('Prices log(1+x)', fontsize=12);\n",
    "\n",
    "sns.histplot(train.Ratings, ax=ax2)\n",
    "ax2.set_xlabel('Ratings root(log(1+x)/10)', fontsize=12)\n",
    "\n",
    "sns.histplot(train.Reviews, ax=ax3)\n",
    "ax3.set_xlabel('Reviews (x/5)**4', fontsize=12);"
   ]
  }
 ],
 "metadata": {
  "kernelspec": {
   "display_name": "Python 3",
   "language": "python",
   "name": "python3"
  },
  "language_info": {
   "codemirror_mode": {
    "name": "ipython",
    "version": 3
   },
   "file_extension": ".py",
   "mimetype": "text/x-python",
   "name": "python",
   "nbconvert_exporter": "python",
   "pygments_lexer": "ipython3",
   "version": "3.7.7"
  }
 },
 "nbformat": 4,
 "nbformat_minor": 4
}
