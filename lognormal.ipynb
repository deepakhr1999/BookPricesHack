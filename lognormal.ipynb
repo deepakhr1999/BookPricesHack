{
 "metadata": {
  "language_info": {
   "codemirror_mode": {
    "name": "ipython",
    "version": 3
   },
   "file_extension": ".py",
   "mimetype": "text/x-python",
   "name": "python",
   "nbconvert_exporter": "python",
   "pygments_lexer": "ipython3",
   "version": "3.7.7-final"
  },
  "orig_nbformat": 2,
  "kernelspec": {
   "name": "python3",
   "display_name": "Python 3",
   "language": "python"
  }
 },
 "nbformat": 4,
 "nbformat_minor": 2,
 "cells": [
  {
   "cell_type": "code",
   "execution_count": 1,
   "metadata": {},
   "outputs": [],
   "source": [
    "import torch\n",
    "import math\n",
    "from torch.distributions import LogNormal"
   ]
  },
  {
   "cell_type": "code",
   "execution_count": 9,
   "metadata": {},
   "outputs": [],
   "source": [
    "def logprob(x, mu, sigma):\n",
    "    z = (torch.log(x) - mu) / sigma\n",
    "    a = sigma.log() + math.log(math.sqrt(2 * math.pi))\n",
    "    return torch.log(x) + a + z ** 2 / 2\n"
   ]
  },
  {
   "cell_type": "code",
   "execution_count": 11,
   "metadata": {},
   "outputs": [
    {
     "output_type": "stream",
     "name": "stdout",
     "text": [
      "tensor([[-9.5367e-07, -9.5367e-07,  9.5367e-07, -9.5367e-07,  0.0000e+00,\n          9.5367e-07,  0.0000e+00,  0.0000e+00, -9.5367e-07,  9.5367e-07,\n         -9.5367e-07,  0.0000e+00,  9.5367e-07,  0.0000e+00, -9.5367e-07,\n         -9.5367e-07,  0.0000e+00,  0.0000e+00,  9.5367e-07,  9.5367e-07]])\ntensor([[526.9687, 506.0577, 543.4330, 500.0284, 567.9039, 545.4827, 500.3071,\n         504.1609, 502.8326, 500.2893, 510.4481, 511.3624, 542.2112, 761.8694,\n         720.8049, 505.6613, 594.8228, 569.8527, 769.4744, 544.6240]])\n"
     ]
    }
   ],
   "source": [
    "mu = torch.Tensor([5.])\n",
    "sigma = torch.Tensor([500])\n",
    "x = 50 * (torch.randn(1, 20)** 2 + 10)\n",
    "\n",
    "zz = LogNormal(mu, sigma).log_prob\n",
    "lib = zz(x)\n",
    "imp = logprob(x, mu, sigma)\n",
    "\n",
    "print(lib + imp)\n",
    "print(x)"
   ]
  },
  {
   "cell_type": "code",
   "execution_count": 12,
   "metadata": {},
   "outputs": [
    {
     "output_type": "execute_result",
     "data": {
      "text/plain": [
       "<bound method TransformedDistribution.log_prob of LogNormal()>"
      ]
     },
     "metadata": {},
     "execution_count": 12
    }
   ],
   "source": [
    "zz"
   ]
  },
  {
   "cell_type": "code",
   "execution_count": 16,
   "metadata": {},
   "outputs": [
    {
     "output_type": "execute_result",
     "data": {
      "text/plain": [
       "torch.Size([100, 1])"
      ]
     },
     "metadata": {},
     "execution_count": 16
    }
   ],
   "source": [
    "mu = torch.randn(100, 1)\n",
    "sigma = torch.rand(100, 1)\n",
    "x = torch.randn(100, 1).exp()\n",
    "LogNormal(mu, sigma).log_prob(x).shape"
   ]
  },
  {
   "cell_type": "code",
   "execution_count": null,
   "metadata": {},
   "outputs": [],
   "source": []
  }
 ]
}