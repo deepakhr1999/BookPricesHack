{
 "cells": [
  {
   "cell_type": "code",
   "execution_count": 1,
   "metadata": {},
   "outputs": [],
   "source": [
    "import pickle\n",
    "import xgboost as xgb\n",
    "from scipy import stats\n",
    "from sklearn.model_selection import GridSearchCV\n",
    "from itertools import chain"
   ]
  },
  {
   "cell_type": "code",
   "execution_count": 2,
   "metadata": {},
   "outputs": [
    {
     "data": {
      "text/html": [
       "<div>\n",
       "<style scoped>\n",
       "    .dataframe tbody tr th:only-of-type {\n",
       "        vertical-align: middle;\n",
       "    }\n",
       "\n",
       "    .dataframe tbody tr th {\n",
       "        vertical-align: top;\n",
       "    }\n",
       "\n",
       "    .dataframe thead th {\n",
       "        text-align: right;\n",
       "    }\n",
       "</style>\n",
       "<table border=\"1\" class=\"dataframe\">\n",
       "  <thead>\n",
       "    <tr style=\"text-align: right;\">\n",
       "      <th></th>\n",
       "      <th>Reviews</th>\n",
       "      <th>Ratings</th>\n",
       "      <th>Genre</th>\n",
       "      <th>BookCategory</th>\n",
       "      <th>EditionType</th>\n",
       "      <th>EditionMonth</th>\n",
       "      <th>EditionYear</th>\n",
       "      <th>EditionDay</th>\n",
       "      <th>Author1</th>\n",
       "      <th>Author2</th>\n",
       "      <th>...</th>\n",
       "      <th>SynopsisFeatures120</th>\n",
       "      <th>SynopsisFeatures121</th>\n",
       "      <th>SynopsisFeatures122</th>\n",
       "      <th>SynopsisFeatures123</th>\n",
       "      <th>SynopsisFeatures124</th>\n",
       "      <th>SynopsisFeatures125</th>\n",
       "      <th>SynopsisFeatures126</th>\n",
       "      <th>SynopsisFeatures127</th>\n",
       "      <th>SynopsisFeatures128</th>\n",
       "      <th>Price</th>\n",
       "    </tr>\n",
       "  </thead>\n",
       "  <tbody>\n",
       "    <tr>\n",
       "      <th>0</th>\n",
       "      <td>0.409600</td>\n",
       "      <td>0.468746</td>\n",
       "      <td>2</td>\n",
       "      <td>1</td>\n",
       "      <td>6</td>\n",
       "      <td>3.0</td>\n",
       "      <td>2016.0</td>\n",
       "      <td>10.0</td>\n",
       "      <td>0</td>\n",
       "      <td>1</td>\n",
       "      <td>...</td>\n",
       "      <td>233.580963</td>\n",
       "      <td>-218.034454</td>\n",
       "      <td>-69.390533</td>\n",
       "      <td>98.005386</td>\n",
       "      <td>68.660393</td>\n",
       "      <td>-246.383255</td>\n",
       "      <td>-134.644257</td>\n",
       "      <td>-66.794785</td>\n",
       "      <td>100.837883</td>\n",
       "      <td>5.398163</td>\n",
       "    </tr>\n",
       "    <tr>\n",
       "      <th>1</th>\n",
       "      <td>0.370151</td>\n",
       "      <td>0.520389</td>\n",
       "      <td>50</td>\n",
       "      <td>3</td>\n",
       "      <td>6</td>\n",
       "      <td>11.0</td>\n",
       "      <td>2012.0</td>\n",
       "      <td>7.0</td>\n",
       "      <td>43</td>\n",
       "      <td>1</td>\n",
       "      <td>...</td>\n",
       "      <td>335.466522</td>\n",
       "      <td>-372.746643</td>\n",
       "      <td>37.508999</td>\n",
       "      <td>12.172302</td>\n",
       "      <td>106.148651</td>\n",
       "      <td>-433.748444</td>\n",
       "      <td>-150.005951</td>\n",
       "      <td>-35.651421</td>\n",
       "      <td>42.431812</td>\n",
       "      <td>5.317777</td>\n",
       "    </tr>\n",
       "    <tr>\n",
       "      <th>2</th>\n",
       "      <td>0.849347</td>\n",
       "      <td>0.441125</td>\n",
       "      <td>126</td>\n",
       "      <td>7</td>\n",
       "      <td>6</td>\n",
       "      <td>2.0</td>\n",
       "      <td>1982.0</td>\n",
       "      <td>25.0</td>\n",
       "      <td>0</td>\n",
       "      <td>1</td>\n",
       "      <td>...</td>\n",
       "      <td>419.564941</td>\n",
       "      <td>-519.821655</td>\n",
       "      <td>87.550644</td>\n",
       "      <td>-18.976753</td>\n",
       "      <td>199.813248</td>\n",
       "      <td>-505.484680</td>\n",
       "      <td>-189.340866</td>\n",
       "      <td>-12.567515</td>\n",
       "      <td>44.063568</td>\n",
       "      <td>5.703782</td>\n",
       "    </tr>\n",
       "    <tr>\n",
       "      <th>3</th>\n",
       "      <td>0.452122</td>\n",
       "      <td>0.513718</td>\n",
       "      <td>64</td>\n",
       "      <td>6</td>\n",
       "      <td>6</td>\n",
       "      <td>10.0</td>\n",
       "      <td>2017.0</td>\n",
       "      <td>5.0</td>\n",
       "      <td>12</td>\n",
       "      <td>1</td>\n",
       "      <td>...</td>\n",
       "      <td>132.891373</td>\n",
       "      <td>-169.159500</td>\n",
       "      <td>8.444520</td>\n",
       "      <td>12.475374</td>\n",
       "      <td>55.435665</td>\n",
       "      <td>-147.415207</td>\n",
       "      <td>-120.737854</td>\n",
       "      <td>10.605937</td>\n",
       "      <td>29.693066</td>\n",
       "      <td>5.198497</td>\n",
       "    </tr>\n",
       "    <tr>\n",
       "      <th>4</th>\n",
       "      <td>1.000000</td>\n",
       "      <td>0.263277</td>\n",
       "      <td>157</td>\n",
       "      <td>2</td>\n",
       "      <td>3</td>\n",
       "      <td>10.0</td>\n",
       "      <td>2006.0</td>\n",
       "      <td>10.0</td>\n",
       "      <td>0</td>\n",
       "      <td>1</td>\n",
       "      <td>...</td>\n",
       "      <td>158.442154</td>\n",
       "      <td>-244.692398</td>\n",
       "      <td>63.849720</td>\n",
       "      <td>-4.507452</td>\n",
       "      <td>94.320618</td>\n",
       "      <td>-210.023666</td>\n",
       "      <td>-227.426117</td>\n",
       "      <td>43.637093</td>\n",
       "      <td>32.485596</td>\n",
       "      <td>6.873805</td>\n",
       "    </tr>\n",
       "  </tbody>\n",
       "</table>\n",
       "<p>5 rows × 446 columns</p>\n",
       "</div>"
      ],
      "text/plain": [
       "    Reviews   Ratings  Genre  BookCategory  EditionType  EditionMonth  \\\n",
       "0  0.409600  0.468746      2             1            6           3.0   \n",
       "1  0.370151  0.520389     50             3            6          11.0   \n",
       "2  0.849347  0.441125    126             7            6           2.0   \n",
       "3  0.452122  0.513718     64             6            6          10.0   \n",
       "4  1.000000  0.263277    157             2            3          10.0   \n",
       "\n",
       "   EditionYear  EditionDay  Author1  Author2  ...  SynopsisFeatures120  \\\n",
       "0       2016.0        10.0        0        1  ...           233.580963   \n",
       "1       2012.0         7.0       43        1  ...           335.466522   \n",
       "2       1982.0        25.0        0        1  ...           419.564941   \n",
       "3       2017.0         5.0       12        1  ...           132.891373   \n",
       "4       2006.0        10.0        0        1  ...           158.442154   \n",
       "\n",
       "   SynopsisFeatures121  SynopsisFeatures122  SynopsisFeatures123  \\\n",
       "0          -218.034454           -69.390533            98.005386   \n",
       "1          -372.746643            37.508999            12.172302   \n",
       "2          -519.821655            87.550644           -18.976753   \n",
       "3          -169.159500             8.444520            12.475374   \n",
       "4          -244.692398            63.849720            -4.507452   \n",
       "\n",
       "   SynopsisFeatures124  SynopsisFeatures125  SynopsisFeatures126  \\\n",
       "0            68.660393          -246.383255          -134.644257   \n",
       "1           106.148651          -433.748444          -150.005951   \n",
       "2           199.813248          -505.484680          -189.340866   \n",
       "3            55.435665          -147.415207          -120.737854   \n",
       "4            94.320618          -210.023666          -227.426117   \n",
       "\n",
       "   SynopsisFeatures127  SynopsisFeatures128     Price  \n",
       "0           -66.794785           100.837883  5.398163  \n",
       "1           -35.651421            42.431812  5.317777  \n",
       "2           -12.567515            44.063568  5.703782  \n",
       "3            10.605937            29.693066  5.198497  \n",
       "4            43.637093            32.485596  6.873805  \n",
       "\n",
       "[5 rows x 446 columns]"
      ]
     },
     "execution_count": 2,
     "metadata": {},
     "output_type": "execute_result"
    }
   ],
   "source": [
    "with open('data.pkl', 'rb') as file:\n",
    "    train, test = pickle.load(file)\n",
    "train.head()"
   ]
  },
  {
   "cell_type": "code",
   "execution_count": 3,
   "metadata": {},
   "outputs": [],
   "source": [
    "# drop other cols\n",
    "droppers = [f'TitleFeatures{i+1}' for i in range(128)] + [f'SynopsisFeatures{i+1}' for i in range(128)]\n",
    "train.drop(droppers, axis=1, inplace=True)\n",
    "test.drop(droppers, axis=1, inplace=True)"
   ]
  },
  {
   "cell_type": "code",
   "execution_count": 4,
   "metadata": {},
   "outputs": [
    {
     "name": "stdout",
     "output_type": "stream",
     "text": [
      "Fitting 4 folds for each of 16 candidates, totalling 64 fits\n"
     ]
    },
    {
     "name": "stderr",
     "output_type": "stream",
     "text": [
      "[Parallel(n_jobs=-1)]: Using backend LokyBackend with 8 concurrent workers.\n",
      "[Parallel(n_jobs=-1)]: Done   2 tasks      | elapsed:    7.4s\n",
      "[Parallel(n_jobs=-1)]: Done   9 tasks      | elapsed:   20.4s\n",
      "[Parallel(n_jobs=-1)]: Done  16 tasks      | elapsed:   26.4s\n",
      "[Parallel(n_jobs=-1)]: Done  25 tasks      | elapsed:   42.7s\n",
      "[Parallel(n_jobs=-1)]: Done  34 tasks      | elapsed:   56.9s\n",
      "[Parallel(n_jobs=-1)]: Done  45 tasks      | elapsed:  1.3min\n",
      "[Parallel(n_jobs=-1)]: Done  56 out of  64 | elapsed:  1.6min remaining:   14.0s\n",
      "[Parallel(n_jobs=-1)]: Done  64 out of  64 | elapsed:  1.9min finished\n"
     ]
    },
    {
     "name": "stdout",
     "output_type": "stream",
     "text": [
      "Best parameters found:  {'colsample_bytree': 0.5, 'max_depth': 10, 'n_estimators': 50}\n",
      "Lowest RMSE found:  0.6015657761561607\n"
     ]
    }
   ],
   "source": [
    "param_grid = {\n",
    "    'colsample_bytree': [.5, .7, 0.9, 1.],\n",
    "    'n_estimators': [50],\n",
    "    'max_depth': [10, 15, 20, 25],\n",
    "}\n",
    "\n",
    "model = xgb.XGBRegressor()\n",
    "searcher = GridSearchCV(param_grid=param_grid, estimator=model,\n",
    "            scoring='neg_mean_squared_error', cv=4, verbose=10, n_jobs=-1)\n",
    "\n",
    "\n",
    "# Fit grid_mse to the data\n",
    "X, y = train.iloc[:, :-1], train.iloc[:,-1]#.apply(lambda x: np.log(x+ 1))\n",
    "searcher.fit(X, y)\n",
    "\n",
    "# Print the best parameters and lowest RMSE\n",
    "print(\"Best parameters found: \", searcher.best_params_)\n",
    "print(\"Lowest RMSE found: \", np.sqrt(np.abs(searcher.best_score_)))"
   ]
  },
  {
   "cell_type": "code",
   "execution_count": 5,
   "metadata": {},
   "outputs": [
    {
     "name": "stdout",
     "output_type": "stream",
     "text": [
      "RMSE 0.1158901046975156\n"
     ]
    }
   ],
   "source": [
    "preds = searcher.predict(X)\n",
    "err = (preds - y)**2\n",
    "print(\"RMSE\", err.mean() ** .5) #0.2214375717780346"
   ]
  },
  {
   "cell_type": "code",
   "execution_count": 6,
   "metadata": {},
   "outputs": [],
   "source": [
    "if 'Price' in test:\n",
    "    del(test['Price'])"
   ]
  },
  {
   "cell_type": "code",
   "execution_count": 7,
   "metadata": {},
   "outputs": [
    {
     "name": "stdout",
     "output_type": "stream",
     "text": [
      "Saved file to xgboost_gridcv.xlsx with shape (1560, 1)\n"
     ]
    }
   ],
   "source": [
    "filename = 'xgboost_gridcv.xlsx'\n",
    "preds = searcher.predict(test)\n",
    "preds = np.exp(preds) - 1\n",
    "submission = pd.DataFrame({'Price': preds})\n",
    "submission.to_excel(filename, index=False)\n",
    "print(\"Saved file to\", filename, 'with shape', submission.shape)"
   ]
  },
  {
   "cell_type": "code",
   "execution_count": null,
   "metadata": {},
   "outputs": [],
   "source": []
  }
 ],
 "metadata": {
  "kernelspec": {
   "display_name": "Python 3",
   "language": "python",
   "name": "python3"
  },
  "language_info": {
   "codemirror_mode": {
    "name": "ipython",
    "version": 3
   },
   "file_extension": ".py",
   "mimetype": "text/x-python",
   "name": "python",
   "nbconvert_exporter": "python",
   "pygments_lexer": "ipython3",
   "version": "3.7.7"
  }
 },
 "nbformat": 4,
 "nbformat_minor": 4
}
